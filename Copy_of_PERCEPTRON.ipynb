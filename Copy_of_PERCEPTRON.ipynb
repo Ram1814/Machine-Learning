{
  "cells": [
    {
      "cell_type": "markdown",
      "metadata": {
        "id": "view-in-github",
        "colab_type": "text"
      },
      "source": [
        "<a href=\"https://colab.research.google.com/github/Ram1814/Machine-Learning/blob/main/Copy_of_PERCEPTRON.ipynb\" target=\"_parent\"><img src=\"https://colab.research.google.com/assets/colab-badge.svg\" alt=\"Open In Colab\"/></a>"
      ]
    },
    {
      "cell_type": "markdown",
      "metadata": {
        "id": "5IC9aOQM8iJC"
      },
      "source": [
        "# Perceptron Learning Algorithm Code"
      ]
    },
    {
      "cell_type": "code",
      "execution_count": 41,
      "metadata": {
        "colab": {
          "base_uri": "https://localhost:8080/"
        },
        "id": "xh7M0_uYa5Ie",
        "outputId": "9f571353-cec4-4563-d73f-4fb70a281d68"
      },
      "outputs": [
        {
          "output_type": "stream",
          "name": "stdout",
          "text": [
            "Drive already mounted at /content/drive; to attempt to forcibly remount, call drive.mount(\"/content/drive\", force_remount=True).\n"
          ]
        }
      ],
      "source": [
        "from google.colab import drive\n",
        "drive.mount('/content/drive')"
      ]
    },
    {
      "cell_type": "code",
      "execution_count": 22,
      "metadata": {
        "colab": {
          "base_uri": "https://localhost:8080/",
          "height": 183
        },
        "id": "ib3aJqdEbPC2",
        "outputId": "5a8c8111-b3eb-41a9-8df3-9b25fdf2816b"
      },
      "outputs": [
        {
          "output_type": "error",
          "ename": "NameError",
          "evalue": "ignored",
          "traceback": [
            "\u001b[0;31m---------------------------------------------------------------------------\u001b[0m",
            "\u001b[0;31mNameError\u001b[0m                                 Traceback (most recent call last)",
            "\u001b[0;32m<ipython-input-22-0a59c7998532>\u001b[0m in \u001b[0;36m<module>\u001b[0;34m\u001b[0m\n\u001b[0;32m----> 1\u001b[0;31m \u001b[0;32mclass\u001b[0m \u001b[0mPreception\u001b[0m\u001b[0;34m(\u001b[0m\u001b[0mobjecrt\u001b[0m\u001b[0;34m)\u001b[0m\u001b[0;34m:\u001b[0m\u001b[0;34m\u001b[0m\u001b[0;34m\u001b[0m\u001b[0m\n\u001b[0m\u001b[1;32m      2\u001b[0m   \u001b[0mdef_int\u001b[0m\u001b[0;34m(\u001b[0m\u001b[0mself\u001b[0m\u001b[0;34m,\u001b[0m\u001b[0minputsize\u001b[0m\u001b[0;34m,\u001b[0m\u001b[0mlr\u001b[0m\u001b[0;34m=\u001b[0m\u001b[0;36m0.\u001b[0m\u001b[0;34m)\u001b[0m\u001b[0;34m\u001b[0m\u001b[0;34m\u001b[0m\u001b[0m\n",
            "\u001b[0;31mNameError\u001b[0m: name 'objecrt' is not defined"
          ]
        }
      ],
      "source": [
        "class Preception(objecrt):\n",
        "  def_int(self,inputsize,lr=0.)"
      ]
    },
    {
      "cell_type": "code",
      "execution_count": 42,
      "metadata": {
        "id": "-ZB46BXQ8iJI"
      },
      "outputs": [],
      "source": [
        "import numpy as np"
      ]
    },
    {
      "cell_type": "markdown",
      "metadata": {
        "id": "B3RcDFDjKUVt"
      },
      "source": [
        "Let us first understand what np.zeros(2+1) do before implementing Perceptron model"
      ]
    },
    {
      "cell_type": "code",
      "execution_count": 13,
      "metadata": {
        "colab": {
          "base_uri": "https://localhost:8080/"
        },
        "id": "LyuHnNrR8iJR",
        "outputId": "ca28f99d-1b4f-444f-942a-a3ddffde2ba8"
      },
      "outputs": [
        {
          "output_type": "execute_result",
          "data": {
            "text/plain": [
              "array([0., 0., 0.])"
            ]
          },
          "metadata": {},
          "execution_count": 13
        }
      ],
      "source": [
        "W = np.zeros(2+1)\n",
        "W"
      ]
    },
    {
      "cell_type": "markdown",
      "metadata": {
        "id": "pwwJ1O1EKlBn"
      },
      "source": [
        " np.insert(X, 0, 1) is used for horizontal stacking of 1's in 0th column\n"
      ]
    },
    {
      "cell_type": "code",
      "execution_count": 14,
      "metadata": {
        "colab": {
          "base_uri": "https://localhost:8080/"
        },
        "id": "szwQn6Yd8iJZ",
        "outputId": "6f1c52d1-6bd8-46db-888d-47c49b4054ef"
      },
      "outputs": [
        {
          "output_type": "execute_result",
          "data": {
            "text/plain": [
              "array([1, 2, 3])"
            ]
          },
          "metadata": {},
          "execution_count": 14
        }
      ],
      "source": [
        "X=[2,3]\n",
        "np.insert(X, 0, 1)\n"
      ]
    },
    {
      "cell_type": "markdown",
      "metadata": {
        "id": "JtpJjmC9N8sp"
      },
      "source": [
        "Understand each code step by step"
      ]
    },
    {
      "cell_type": "code",
      "execution_count": 15,
      "metadata": {
        "id": "cWdHQsjd8iJh"
      },
      "outputs": [],
      "source": [
        "# initialization code\n",
        "def __init__(self, input_size, lr=5, epochs=2, bias=1):\n",
        "    self.W = np.zeros(input_size+bias)\n",
        "    self.epochs = epochs\n",
        "    self.lr = lr"
      ]
    },
    {
      "cell_type": "code",
      "execution_count": 16,
      "metadata": {
        "id": "fom45Tzh8iJn"
      },
      "outputs": [],
      "source": [
        "# Activation function code which is a simple step function\n",
        "def activation_fn(self, x):\n",
        "        #return (x >= 0).astype(np.float32)\n",
        "        return 1 if x >= 0 else 0"
      ]
    },
    {
      "cell_type": "code",
      "execution_count": 17,
      "metadata": {
        "id": "Ix_xNDhi8iJs"
      },
      "outputs": [],
      "source": [
        "# Calculating dot product of W and X (input vector) and applying step function\n",
        "def predict(self, x):\n",
        "        z = self.W.T.dot(x)\n",
        "        a = self.activation_fn(z)\n",
        "        return a"
      ]
    },
    {
      "cell_type": "code",
      "execution_count": 18,
      "metadata": {
        "id": "YvRpXqxd8iJz"
      },
      "outputs": [],
      "source": [
        "# Perceptron Learning code running all the samples for given epochs or iterations\n",
        "def fit(self, X, OutputLabel):\n",
        "    no_of_smaples=4\n",
        "    for _ in range(self.epochs):\n",
        "        for i in range(no_of_samples):\n",
        "            y = self.predict(X[i])\n",
        "            e = OutputLabel[i] - y\n",
        "            self.W = self.W + self.lr * e * np.insert(X[i], 0, 1)"
      ]
    },
    {
      "cell_type": "markdown",
      "metadata": {
        "id": "y6zeqwrM8iJ6"
      },
      "source": [
        "# The complete executable code of Perceptron model  in one step "
      ]
    },
    {
      "cell_type": "code",
      "execution_count": 48,
      "metadata": {
        "id": "90IArkfa8iJ8"
      },
      "outputs": [],
      "source": [
        " \n",
        "class Perceptron(object):\n",
        "    \"\"\"Implements a perceptron network\"\"\"\n",
        "    def __init__(self, input_size, lr=0.02, epochs=800):\n",
        "        self.W = np.zeros(input_size+1)\n",
        "        # add one for bias\n",
        "        self.epochs = epochs\n",
        "        self.lr = lr\n",
        "        self.loss_lst = []\n",
        "    \n",
        "    def activation_fn(self, x):\n",
        "        #return (x >= 0).astype(np.float32)\n",
        "        return 1 if x >= 0 else 0\n",
        " \n",
        "    def predict(self, x):\n",
        "        z = self.W.T.dot(x)\n",
        "        a = self.activation_fn(z)\n",
        "        return a\n",
        " \n",
        "    def fit(self, X, d):\n",
        "        for _ in range(self.epochs):\n",
        "            for i in range(d.shape[0]):\n",
        "                x = np.insert(X[i], 0, 1)\n",
        "                y = self.predict(x)\n",
        "                e = d[i] - y\n",
        "                self.W = self.W + self.lr * e * x\n",
        "            self.loss_lst.append(e)                  "
      ]
    },
    {
      "cell_type": "markdown",
      "metadata": {
        "id": "WxkfR3Rr8iKC"
      },
      "source": [
        "# AND GATE EXAMPLE WITH NO OF SAMPLES/RECORDS AS 4 AND EPOCHS AS 2"
      ]
    },
    {
      "cell_type": "code",
      "execution_count": 49,
      "metadata": {
        "colab": {
          "base_uri": "https://localhost:8080/"
        },
        "id": "6FkER4a68iKE",
        "outputId": "a9fcb04f-404d-4908-ff7a-69b8564c3e5e"
      },
      "outputs": [
        {
          "output_type": "stream",
          "name": "stdout",
          "text": [
            "[ 0.   -0.02  0.  ]\n"
          ]
        }
      ],
      "source": [
        "if __name__ == '__main__':\n",
        "    X = np.array([\n",
        "        [0, 0],\n",
        "        [0, 1],\n",
        "        [1, 0],\n",
        "        [1, 1]\n",
        "    ])\n",
        "    d = np.array([0, 1, 1, 0])\n",
        " \n",
        "    perceptron = Perceptron(input_size=2)\n",
        "    perceptron.fit(X, d)\n",
        "    print(perceptron.W)"
      ]
    },
    {
      "cell_type": "code",
      "execution_count": 50,
      "metadata": {
        "colab": {
          "base_uri": "https://localhost:8080/",
          "height": 279
        },
        "id": "gckUX4MnQ3ho",
        "outputId": "5adfe612-f923-490b-b77a-e475edb6c0e8"
      },
      "outputs": [
        {
          "output_type": "display_data",
          "data": {
            "text/plain": [
              "<Figure size 432x288 with 1 Axes>"
            ],
            "image/png": "[encoded data removed]"
          },
          "metadata": {
            "needs_background": "light"
          }
        }
      ],
      "source": [
        "import matplotlib.pyplot as plt\n",
        "x_axis = [int(x) for x in range(800)]\n",
        "y_axis = perceptron.loss_lst\n",
        "plt.plot(x_axis, y_axis)\n",
        "plt.xlabel(\"iteration\")\n",
        "plt.ylabel(\"loss\")\n",
        "plt.show()"
      ]
    },
    {
      "cell_type": "markdown",
      "metadata": {
        "id": "Ks5fWOcq8iKN"
      },
      "source": [
        "# Using the AND gate data, we should get a weight vector of [-3, 2, 1]. This means that the bias is -3 and the weights are 2 and 1 for x_1 and x_2, respectively."
      ]
    },
    {
      "cell_type": "markdown",
      "metadata": {
        "id": "lWfEutm18iKP"
      },
      "source": [
        "# LETS TEST MANUALLY\n",
        "# let us test for x=[0, 1]"
      ]
    },
    {
      "cell_type": "code",
      "execution_count": 10,
      "metadata": {
        "colab": {
          "base_uri": "https://localhost:8080/"
        },
        "id": "O8Zw-a2-8iKR",
        "outputId": "b8c66f5d-1fc6-481c-f7a9-4c91e9e4dec9"
      },
      "outputs": [
        {
          "output_type": "execute_result",
          "data": {
            "text/plain": [
              "-2"
            ]
          },
          "metadata": {},
          "execution_count": 10
        }
      ],
      "source": [
        "x=[1, 0, 1]\n",
        "y= -3*1+2*0+1*1\n",
        "y"
      ]
    },
    {
      "cell_type": "markdown",
      "metadata": {
        "id": "bb3JLCbk8iKW"
      },
      "source": [
        "# since it is a negative value on applying activation function we get zero which is correct"
      ]
    }
  ],
  "metadata": {
    "colab": {
      "provenance": [],
      "include_colab_link": true
    },
    "kernelspec": {
      "display_name": "Python 3",
      "language": "python",
      "name": "python3"
    },
    "language_info": {
      "codemirror_mode": {
        "name": "ipython",
        "version": 3
      },
      "file_extension": ".py",
      "mimetype": "text/x-python",
      "name": "python",
      "nbconvert_exporter": "python",
      "pygments_lexer": "ipython3",
      "version": "3.7.3"
    }
  },
  "nbformat": 4,
  "nbformat_minor": 0
}